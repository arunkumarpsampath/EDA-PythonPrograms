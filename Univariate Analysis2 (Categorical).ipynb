{
 "cells": [
  {
   "cell_type": "code",
   "execution_count": null,
   "metadata": {},
   "outputs": [],
   "source": [
    "#pie chart\n",
    "#doughnut"
   ]
  },
  {
   "cell_type": "code",
   "execution_count": 1,
   "metadata": {},
   "outputs": [],
   "source": [
    "import numpy as np,pandas as pd,os"
   ]
  },
  {
   "cell_type": "code",
   "execution_count": 2,
   "metadata": {},
   "outputs": [],
   "source": [
    "ball = pd.read_excel(\"D:\\Manipal Pro learn\\Term1\\EDA\\Dataset\\IPL Data\\Ball_by_Ball.xlsx\")\n",
    "match = pd.read_excel(\"D:\\Manipal Pro learn\\Term1\\EDA\\Dataset\\IPL Data\\Match.xlsx\")\n",
    "player = pd.read_excel(\"D:\\Manipal Pro learn\\Term1\\EDA\\Dataset\\IPL Data\\Player.xlsx\")\n",
    "season = pd.read_excel(\"D:\\Manipal Pro learn\\Term1\\EDA\\Dataset\\IPL Data\\Season.xlsx\")\n",
    "team = pd.read_excel(\"D:\\Manipal Pro learn\\Term1\\EDA\\Dataset\\IPL Data\\Team.xlsx\")\n",
    "player_match = pd.read_excel(\"D:\\Manipal Pro learn\\Term1\\EDA\\Dataset\\IPL Data\\Player_Match.xlsx\")"
   ]
  },
  {
   "cell_type": "code",
   "execution_count": 4,
   "metadata": {},
   "outputs": [
    {
     "data": {
      "text/html": [
       "<div>\n",
       "<style scoped>\n",
       "    .dataframe tbody tr th:only-of-type {\n",
       "        vertical-align: middle;\n",
       "    }\n",
       "\n",
       "    .dataframe tbody tr th {\n",
       "        vertical-align: top;\n",
       "    }\n",
       "\n",
       "    .dataframe thead th {\n",
       "        text-align: right;\n",
       "    }\n",
       "</style>\n",
       "<table border=\"1\" class=\"dataframe\">\n",
       "  <thead>\n",
       "    <tr style=\"text-align: right;\">\n",
       "      <th></th>\n",
       "      <th>Player_Name</th>\n",
       "      <th>Batsman_Scored</th>\n",
       "    </tr>\n",
       "  </thead>\n",
       "  <tbody>\n",
       "    <tr>\n",
       "      <th>20</th>\n",
       "      <td>SK Raina</td>\n",
       "      <td>4106.0</td>\n",
       "    </tr>\n",
       "    <tr>\n",
       "      <th>7</th>\n",
       "      <td>V Kohli</td>\n",
       "      <td>4105.0</td>\n",
       "    </tr>\n",
       "    <tr>\n",
       "      <th>56</th>\n",
       "      <td>RG Sharma</td>\n",
       "      <td>3874.0</td>\n",
       "    </tr>\n",
       "  </tbody>\n",
       "</table>\n",
       "</div>"
      ],
      "text/plain": [
       "   Player_Name  Batsman_Scored\n",
       "20    SK Raina          4106.0\n",
       "7      V Kohli          4105.0\n",
       "56   RG Sharma          3874.0"
      ]
     },
     "execution_count": 4,
     "metadata": {},
     "output_type": "execute_result"
    }
   ],
   "source": [
    "#top 3 batsmen\n",
    "batsman_score = ball[['Striker_Id','Batsman_Scored']].groupby('Striker_Id').sum().reset_index()\n",
    "batsman_score = pd.merge(player,batsman_score,how='left',left_on='Player_Id',right_on='Striker_Id')\n",
    "batsman_score[['Player_Name','Batsman_Scored']].sort_values(by='Batsman_Scored',ascending=False).head(3)"
   ]
  },
  {
   "cell_type": "code",
   "execution_count": 3,
   "metadata": {},
   "outputs": [
    {
     "data": {
      "text/html": [
       "<div>\n",
       "<style scoped>\n",
       "    .dataframe tbody tr th:only-of-type {\n",
       "        vertical-align: middle;\n",
       "    }\n",
       "\n",
       "    .dataframe tbody tr th {\n",
       "        vertical-align: top;\n",
       "    }\n",
       "\n",
       "    .dataframe thead th {\n",
       "        text-align: right;\n",
       "    }\n",
       "</style>\n",
       "<table border=\"1\" class=\"dataframe\">\n",
       "  <thead>\n",
       "    <tr style=\"text-align: right;\">\n",
       "      <th></th>\n",
       "      <th>Player_Id</th>\n",
       "      <th>Player_Name</th>\n",
       "      <th>DOB</th>\n",
       "      <th>Batting_Hand</th>\n",
       "      <th>Bowling_Skill</th>\n",
       "      <th>Country</th>\n",
       "      <th>Is_Umpire</th>\n",
       "      <th>Unnamed: 7</th>\n",
       "      <th>Bowler_Id</th>\n",
       "      <th>Extra_Runs</th>\n",
       "    </tr>\n",
       "  </thead>\n",
       "  <tbody>\n",
       "    <tr>\n",
       "      <th>193</th>\n",
       "      <td>194</td>\n",
       "      <td>SL Malinga</td>\n",
       "      <td>1983-08-28</td>\n",
       "      <td>Right_Hand</td>\n",
       "      <td>Right-arm fast</td>\n",
       "      <td>Sri Lanka</td>\n",
       "      <td>0</td>\n",
       "      <td>NaN</td>\n",
       "      <td>194.0</td>\n",
       "      <td>204.0</td>\n",
       "    </tr>\n",
       "    <tr>\n",
       "      <th>13</th>\n",
       "      <td>14</td>\n",
       "      <td>P Kumar</td>\n",
       "      <td>1986-10-02</td>\n",
       "      <td>Right_Hand</td>\n",
       "      <td>Right-arm medium</td>\n",
       "      <td>India</td>\n",
       "      <td>0</td>\n",
       "      <td>NaN</td>\n",
       "      <td>14.0</td>\n",
       "      <td>169.0</td>\n",
       "    </tr>\n",
       "    <tr>\n",
       "      <th>60</th>\n",
       "      <td>61</td>\n",
       "      <td>RP Singh</td>\n",
       "      <td>1985-12-06</td>\n",
       "      <td>Right_Hand</td>\n",
       "      <td>Left-arm fast-medium</td>\n",
       "      <td>India</td>\n",
       "      <td>0</td>\n",
       "      <td>NaN</td>\n",
       "      <td>61.0</td>\n",
       "      <td>152.0</td>\n",
       "    </tr>\n",
       "    <tr>\n",
       "      <th>31</th>\n",
       "      <td>32</td>\n",
       "      <td>SR Watson</td>\n",
       "      <td>1981-06-17</td>\n",
       "      <td>Right_Hand</td>\n",
       "      <td>Right-arm fast-medium</td>\n",
       "      <td>Australia</td>\n",
       "      <td>0</td>\n",
       "      <td>NaN</td>\n",
       "      <td>32.0</td>\n",
       "      <td>147.0</td>\n",
       "    </tr>\n",
       "    <tr>\n",
       "      <th>93</th>\n",
       "      <td>94</td>\n",
       "      <td>DW Steyn</td>\n",
       "      <td>1983-06-27</td>\n",
       "      <td>Right_Hand</td>\n",
       "      <td>Right-arm fast</td>\n",
       "      <td>South Africa</td>\n",
       "      <td>0</td>\n",
       "      <td>NaN</td>\n",
       "      <td>94.0</td>\n",
       "      <td>141.0</td>\n",
       "    </tr>\n",
       "    <tr>\n",
       "      <th>83</th>\n",
       "      <td>84</td>\n",
       "      <td>I Sharma</td>\n",
       "      <td>1988-09-02</td>\n",
       "      <td>Right_Hand</td>\n",
       "      <td>Right-arm fast-medium</td>\n",
       "      <td>India</td>\n",
       "      <td>0</td>\n",
       "      <td>NaN</td>\n",
       "      <td>84.0</td>\n",
       "      <td>140.0</td>\n",
       "    </tr>\n",
       "    <tr>\n",
       "      <th>49</th>\n",
       "      <td>50</td>\n",
       "      <td>Harbhajan Singh</td>\n",
       "      <td>1980-07-03</td>\n",
       "      <td>Right_Hand</td>\n",
       "      <td>Right-arm offbreak</td>\n",
       "      <td>India</td>\n",
       "      <td>0</td>\n",
       "      <td>NaN</td>\n",
       "      <td>50.0</td>\n",
       "      <td>132.0</td>\n",
       "    </tr>\n",
       "    <tr>\n",
       "      <th>14</th>\n",
       "      <td>15</td>\n",
       "      <td>Z Khan</td>\n",
       "      <td>1978-10-07</td>\n",
       "      <td>Right_Hand</td>\n",
       "      <td>Left-arm fast-medium</td>\n",
       "      <td>India</td>\n",
       "      <td>0</td>\n",
       "      <td>NaN</td>\n",
       "      <td>15.0</td>\n",
       "      <td>128.0</td>\n",
       "    </tr>\n",
       "    <tr>\n",
       "      <th>108</th>\n",
       "      <td>109</td>\n",
       "      <td>JA Morkel</td>\n",
       "      <td>1981-06-10</td>\n",
       "      <td>Left_Hand</td>\n",
       "      <td>Right-arm medium-fast</td>\n",
       "      <td>South Africa</td>\n",
       "      <td>0</td>\n",
       "      <td>NaN</td>\n",
       "      <td>109.0</td>\n",
       "      <td>122.0</td>\n",
       "    </tr>\n",
       "    <tr>\n",
       "      <th>70</th>\n",
       "      <td>71</td>\n",
       "      <td>DJ Bravo</td>\n",
       "      <td>1983-10-07</td>\n",
       "      <td>Right_Hand</td>\n",
       "      <td>Right-arm medium-fast</td>\n",
       "      <td>West Indies</td>\n",
       "      <td>0</td>\n",
       "      <td>NaN</td>\n",
       "      <td>71.0</td>\n",
       "      <td>120.0</td>\n",
       "    </tr>\n",
       "  </tbody>\n",
       "</table>\n",
       "</div>"
      ],
      "text/plain": [
       "     Player_Id      Player_Name        DOB Batting_Hand  \\\n",
       "193        194       SL Malinga 1983-08-28   Right_Hand   \n",
       "13          14          P Kumar 1986-10-02   Right_Hand   \n",
       "60          61         RP Singh 1985-12-06   Right_Hand   \n",
       "31          32        SR Watson 1981-06-17   Right_Hand   \n",
       "93          94         DW Steyn 1983-06-27   Right_Hand   \n",
       "83          84         I Sharma 1988-09-02   Right_Hand   \n",
       "49          50  Harbhajan Singh 1980-07-03   Right_Hand   \n",
       "14          15           Z Khan 1978-10-07   Right_Hand   \n",
       "108        109        JA Morkel 1981-06-10    Left_Hand   \n",
       "70          71         DJ Bravo 1983-10-07   Right_Hand   \n",
       "\n",
       "             Bowling_Skill       Country  Is_Umpire  Unnamed: 7  Bowler_Id  \\\n",
       "193         Right-arm fast     Sri Lanka          0         NaN      194.0   \n",
       "13        Right-arm medium         India          0         NaN       14.0   \n",
       "60    Left-arm fast-medium         India          0         NaN       61.0   \n",
       "31   Right-arm fast-medium     Australia          0         NaN       32.0   \n",
       "93          Right-arm fast  South Africa          0         NaN       94.0   \n",
       "83   Right-arm fast-medium         India          0         NaN       84.0   \n",
       "49      Right-arm offbreak         India          0         NaN       50.0   \n",
       "14    Left-arm fast-medium         India          0         NaN       15.0   \n",
       "108  Right-arm medium-fast  South Africa          0         NaN      109.0   \n",
       "70   Right-arm medium-fast   West Indies          0         NaN       71.0   \n",
       "\n",
       "     Extra_Runs  \n",
       "193       204.0  \n",
       "13        169.0  \n",
       "60        152.0  \n",
       "31        147.0  \n",
       "93        141.0  \n",
       "83        140.0  \n",
       "49        132.0  \n",
       "14        128.0  \n",
       "108       122.0  \n",
       "70        120.0  "
      ]
     },
     "execution_count": 3,
     "metadata": {},
     "output_type": "execute_result"
    }
   ],
   "source": [
    "#top 10 bowler based on extras\n",
    "bowler_extras = ball[ball['Extra_Runs']!=' '].groupby('Bowler_Id')['Extra_Runs'].sum().reset_index()\n",
    "top_bowler_extras = pd.merge(player,bowler_extras,how='left',left_on='Player_Id',right_on='Bowler_Id')\n",
    "top_bowler_extras.sort_values(by='Extra_Runs',ascending=False).head(10)"
   ]
  },
  {
   "cell_type": "code",
   "execution_count": 5,
   "metadata": {},
   "outputs": [
    {
     "data": {
      "text/html": [
       "<div>\n",
       "<style scoped>\n",
       "    .dataframe tbody tr th:only-of-type {\n",
       "        vertical-align: middle;\n",
       "    }\n",
       "\n",
       "    .dataframe tbody tr th {\n",
       "        vertical-align: top;\n",
       "    }\n",
       "\n",
       "    .dataframe thead th {\n",
       "        text-align: right;\n",
       "    }\n",
       "</style>\n",
       "<table border=\"1\" class=\"dataframe\">\n",
       "  <thead>\n",
       "    <tr style=\"text-align: right;\">\n",
       "      <th></th>\n",
       "      <th>Player_Id</th>\n",
       "      <th>Player_Name</th>\n",
       "      <th>DOB</th>\n",
       "      <th>Batting_Hand</th>\n",
       "      <th>Bowling_Skill</th>\n",
       "      <th>Country</th>\n",
       "      <th>Is_Umpire</th>\n",
       "      <th>Unnamed: 7</th>\n",
       "      <th>Striker_Id</th>\n",
       "      <th>Batsman_Scored</th>\n",
       "    </tr>\n",
       "  </thead>\n",
       "  <tbody>\n",
       "    <tr>\n",
       "      <th>161</th>\n",
       "      <td>162</td>\n",
       "      <td>CH Gayle</td>\n",
       "      <td>1979-09-21</td>\n",
       "      <td>Left_Hand</td>\n",
       "      <td>Right-arm offbreak</td>\n",
       "      <td>West Indies</td>\n",
       "      <td>0</td>\n",
       "      <td>NaN</td>\n",
       "      <td>162.0</td>\n",
       "      <td>5.0</td>\n",
       "    </tr>\n",
       "    <tr>\n",
       "      <th>7</th>\n",
       "      <td>8</td>\n",
       "      <td>V Kohli</td>\n",
       "      <td>1988-11-05</td>\n",
       "      <td>Right_Hand</td>\n",
       "      <td>Right-arm medium</td>\n",
       "      <td>India</td>\n",
       "      <td>0</td>\n",
       "      <td>NaN</td>\n",
       "      <td>8.0</td>\n",
       "      <td>4.0</td>\n",
       "    </tr>\n",
       "    <tr>\n",
       "      <th>109</th>\n",
       "      <td>110</td>\n",
       "      <td>AB de Villiers</td>\n",
       "      <td>1984-02-17</td>\n",
       "      <td>Right_Hand</td>\n",
       "      <td>Right-arm medium</td>\n",
       "      <td>South Africa</td>\n",
       "      <td>0</td>\n",
       "      <td>NaN</td>\n",
       "      <td>110.0</td>\n",
       "      <td>3.0</td>\n",
       "    </tr>\n",
       "  </tbody>\n",
       "</table>\n",
       "</div>"
      ],
      "text/plain": [
       "     Player_Id     Player_Name        DOB Batting_Hand       Bowling_Skill  \\\n",
       "161        162        CH Gayle 1979-09-21    Left_Hand  Right-arm offbreak   \n",
       "7            8         V Kohli 1988-11-05   Right_Hand    Right-arm medium   \n",
       "109        110  AB de Villiers 1984-02-17   Right_Hand    Right-arm medium   \n",
       "\n",
       "          Country  Is_Umpire  Unnamed: 7  Striker_Id  Batsman_Scored  \n",
       "161   West Indies          0         NaN       162.0             5.0  \n",
       "7           India          0         NaN         8.0             4.0  \n",
       "109  South Africa          0         NaN       110.0             3.0  "
      ]
     },
     "execution_count": 5,
     "metadata": {},
     "output_type": "execute_result"
    }
   ],
   "source": [
    "#Top3 batsman based on centuries\n",
    "batsman_score_match = ball.groupby(['Striker_Id','Match_Id'])['Batsman_Scored'].sum().reset_index()\n",
    "batsman_score_centuries = batsman_score_match[batsman_score_match['Batsman_Scored'] >  99 ]\n",
    "batsman_score_centuries = batsman_score_centuries.groupby('Striker_Id')['Batsman_Scored'].count().reset_index()\n",
    "highest_centuries = pd.merge(player,batsman_score_centuries,how='left',left_on='Player_Id',right_on='Striker_Id')\n",
    "highest_centuries.sort_values(by = 'Batsman_Scored',ascending=False).head(3)"
   ]
  },
  {
   "cell_type": "code",
   "execution_count": 7,
   "metadata": {},
   "outputs": [
    {
     "data": {
      "text/html": [
       "<div>\n",
       "<style scoped>\n",
       "    .dataframe tbody tr th:only-of-type {\n",
       "        vertical-align: middle;\n",
       "    }\n",
       "\n",
       "    .dataframe tbody tr th {\n",
       "        vertical-align: top;\n",
       "    }\n",
       "\n",
       "    .dataframe thead th {\n",
       "        text-align: right;\n",
       "    }\n",
       "</style>\n",
       "<table border=\"1\" class=\"dataframe\">\n",
       "  <thead>\n",
       "    <tr style=\"text-align: right;\">\n",
       "      <th></th>\n",
       "      <th>Batting_Hand</th>\n",
       "      <th>No of players</th>\n",
       "      <th>Batsman_Scored</th>\n",
       "      <th>Average Score</th>\n",
       "    </tr>\n",
       "  </thead>\n",
       "  <tbody>\n",
       "    <tr>\n",
       "      <th>0</th>\n",
       "      <td>Left_Hand</td>\n",
       "      <td>126</td>\n",
       "      <td>54462.0</td>\n",
       "      <td>432.238095</td>\n",
       "    </tr>\n",
       "    <tr>\n",
       "      <th>1</th>\n",
       "      <td>Right_Hand</td>\n",
       "      <td>345</td>\n",
       "      <td>111488.0</td>\n",
       "      <td>323.153623</td>\n",
       "    </tr>\n",
       "  </tbody>\n",
       "</table>\n",
       "</div>"
      ],
      "text/plain": [
       "  Batting_Hand  No of players  Batsman_Scored  Average Score\n",
       "0    Left_Hand            126         54462.0     432.238095\n",
       "1   Right_Hand            345        111488.0     323.153623"
      ]
     },
     "execution_count": 7,
     "metadata": {},
     "output_type": "execute_result"
    }
   ],
   "source": [
    "#Are right handed batsman dominating IPL?\n",
    "runs_player = ball.groupby('Striker_Id')['Batsman_Scored'].sum().reset_index()\n",
    "highest_runs = pd.merge(player,runs_player,how='left',left_on='Player_Id',right_on='Striker_Id')\n",
    "Batting_hand = highest_runs.groupby('Batting_Hand')['Batsman_Scored'].sum().reset_index()\n",
    "player_hand = player.groupby('Batting_Hand')['Player_Id'].count().reset_index()\n",
    "Batting_hand.insert(1,'No of players',player_hand['Player_Id'])\n",
    "Batting_hand['Average Score'] = Batting_hand['Batsman_Scored'] / Batting_hand['No of players'] \n",
    "Batting_hand"
   ]
  },
  {
   "cell_type": "code",
   "execution_count": 15,
   "metadata": {},
   "outputs": [
    {
     "data": {
      "text/html": [
       "<div>\n",
       "<style scoped>\n",
       "    .dataframe tbody tr th:only-of-type {\n",
       "        vertical-align: middle;\n",
       "    }\n",
       "\n",
       "    .dataframe tbody tr th {\n",
       "        vertical-align: top;\n",
       "    }\n",
       "\n",
       "    .dataframe thead th {\n",
       "        text-align: right;\n",
       "    }\n",
       "</style>\n",
       "<table border=\"1\" class=\"dataframe\">\n",
       "  <thead>\n",
       "    <tr style=\"text-align: right;\">\n",
       "      <th></th>\n",
       "      <th>Toss_Decision</th>\n",
       "      <th>No. of matches</th>\n",
       "    </tr>\n",
       "  </thead>\n",
       "  <tbody>\n",
       "    <tr>\n",
       "      <th>0</th>\n",
       "      <td>bat</td>\n",
       "      <td>262</td>\n",
       "    </tr>\n",
       "    <tr>\n",
       "      <th>1</th>\n",
       "      <td>field</td>\n",
       "      <td>315</td>\n",
       "    </tr>\n",
       "  </tbody>\n",
       "</table>\n",
       "</div>"
      ],
      "text/plain": [
       "  Toss_Decision  No. of matches\n",
       "0           bat             262\n",
       "1         field             315"
      ]
     },
     "execution_count": 15,
     "metadata": {},
     "output_type": "execute_result"
    }
   ],
   "source": [
    "#Decision after winning toss in pie chart\n",
    "Toss = match.groupby(['Toss_Decision']).size().reset_index()\n",
    "Toss = Toss.rename(columns={0:'No. of matches'})\n",
    "Toss"
   ]
  },
  {
   "cell_type": "code",
   "execution_count": 16,
   "metadata": {},
   "outputs": [],
   "source": [
    "from matplotlib import pyplot as plt"
   ]
  },
  {
   "cell_type": "code",
   "execution_count": 24,
   "metadata": {},
   "outputs": [
    {
     "data": {
      "text/plain": [
       "([<matplotlib.patches.Wedge at 0x18c939b20b8>,\n",
       "  <matplotlib.patches.Wedge at 0x18c939896d8>],\n",
       " [Text(0.05751377789415624, 0.3958436122414276, 'bat'),\n",
       "  Text(-0.12940591687335506, -0.8906481396590723, 'field')],\n",
       " [Text(0.1437844447353906, 0.989609030603569, '45.41%'),\n",
       "  Text(-0.2156765281222584, -1.4844135660984539, '54.59%')])"
      ]
     },
     "execution_count": 24,
     "metadata": {},
     "output_type": "execute_result"
    },
    {
     "data": {
      "image/png": "[encoded data removed]",
      "text/plain": [
       "<Figure size 432x288 with 1 Axes>"
      ]
     },
     "metadata": {},
     "output_type": "display_data"
    }
   ],
   "source": [
    "plt.pie(Toss['No. of matches'],labels= Toss['Toss_Decision'],autopct=\"%.2f%%\",\n",
    "        radius=2,labeldistance=0.2,pctdistance=0.5,explode=(0,0.5))\n"
   ]
  },
  {
   "cell_type": "code",
   "execution_count": 40,
   "metadata": {},
   "outputs": [
    {
     "data": {
      "text/plain": [
       "([<matplotlib.patches.Wedge at 0x18c93df56d8>,\n",
       "  <matplotlib.patches.Wedge at 0x18c93df5e10>],\n",
       " [Text(-0.2126612232898082, 1.0792475175365854, 'indian'),\n",
       "  Text(0.21266112224336153, -1.0792475374473616, 'foreign')],\n",
       " [Text(-0.1159970308853499, 0.5886804641108647, '56.19%'),\n",
       "  Text(0.11599697576910628, -0.5886804749712881, '43.81%')])"
      ]
     },
     "execution_count": 40,
     "metadata": {},
     "output_type": "execute_result"
    },
    {
     "data": {
      "image/png": "[encoded data removed]",
      "text/plain": [
       "<Figure size 432x288 with 1 Axes>"
      ]
     },
     "metadata": {},
     "output_type": "display_data"
    }
   ],
   "source": [
    "# Contribution of foreign players\n",
    "\n",
    "batsman_score_match = ball.groupby(['Striker_Id'])['Batsman_Scored'].sum().reset_index()\n",
    "batsman_score  = pd.merge(batsman_score_match,player,left_on='Striker_Id',right_on='Player_Id')\n",
    "Total_score = batsman_score[batsman_score['Country'] == 'India']['Batsman_Scored'].sum()\n",
    "foreign_player_score = batsman_score[batsman_score['Country'] != 'India']['Batsman_Scored'].sum()\n",
    "Foreign_score = pd.DataFrame({ 'Player_type' : ['indian','foreign'] ,\n",
    "               'score' : [Total_score,foreign_player_score]\n",
    "})\n",
    "plt.pie(Foreign_score['score'],labels= Foreign_score['Player_type'],autopct='%.2f%%')"
   ]
  },
  {
   "cell_type": "code",
   "execution_count": 63,
   "metadata": {
    "scrolled": false
   },
   "outputs": [
    {
     "data": {
      "text/plain": [
       "([<matplotlib.patches.Wedge at 0x18c957280b8>,\n",
       "  <matplotlib.patches.Wedge at 0x18c957287f0>,\n",
       "  <matplotlib.patches.Wedge at 0x18c95728ef0>,\n",
       "  <matplotlib.patches.Wedge at 0x18c9572e630>,\n",
       "  <matplotlib.patches.Wedge at 0x18c9572ed30>,\n",
       "  <matplotlib.patches.Wedge at 0x18c95737470>,\n",
       "  <matplotlib.patches.Wedge at 0x18c95737b70>,\n",
       "  <matplotlib.patches.Wedge at 0x18c9573c2b0>,\n",
       "  <matplotlib.patches.Wedge at 0x18c9573c9b0>,\n",
       "  <matplotlib.patches.Wedge at 0x18c957430f0>],\n",
       " [Text(1.4938856526280466, 3.275409235022713, 'Australia'),\n",
       "  Text(-2.2171384480387872, 2.444237529829734, 'Bangladesh'),\n",
       "  Text(-2.555243456446703, 2.0882363080567075, 'England'),\n",
       "  Text(-2.823808706870012, 1.7076605010964894, 'Netherlands'),\n",
       "  Text(-3.170073786046859, 0.9168599625998143, 'New Zealand'),\n",
       "  Text(-3.299650058602942, -0.04805716139772081, 'Pakistan'),\n",
       "  Text(-2.4551092248512183, -2.632952467108066, 'South Africa'),\n",
       "  Text(0.9866342663652371, -3.149055862387, 'Sri Lanka'),\n",
       "  Text(3.1817157506460476, -1.684246087153198, 'West Indies'),\n",
       "  Text(3.2999970390389586, -0.004420671228019678, 'Zimbabwea')],\n",
       " [Text(0.8714332973663604, 1.9106553870965823, '36.38%'),\n",
       "  Text(-1.209348244384793, 1.3332204708162183, '0.69%'),\n",
       "  Text(-1.3937691580618377, 1.1390379862127493, '4.05%'),\n",
       "  Text(-1.54025929465637, 0.9314511824162668, '0.45%'),\n",
       "  Text(-1.7291311560255593, 0.5001054341453531, '7.90%'),\n",
       "  Text(-1.7998091228743316, -0.02621299712602953, '1.52%'),\n",
       "  Text(-1.4321470478298775, -1.5358889391463713, '24.13%'),\n",
       "  Text(0.5381641452901292, -1.7176668340292724, '9.43%'),\n",
       "  Text(1.8560008545435276, -0.9824768841726986, '15.41%'),\n",
       "  Text(1.799998384930341, -0.00241127521528346, '0.04%')])"
      ]
     },
     "execution_count": 63,
     "metadata": {},
     "output_type": "execute_result"
    },
    {
     "data": {
      "image/png": "[encoded data removed]",
      "text/plain": [
       "<Figure size 432x288 with 1 Axes>"
      ]
     },
     "metadata": {},
     "output_type": "display_data"
    }
   ],
   "source": [
    "# Contribution of foreign players country-wise\n",
    "\n",
    "batsman_score_match = ball.groupby(['Striker_Id'])['Batsman_Scored'].sum().reset_index()\n",
    "batsman_score  = pd.merge(batsman_score_match,player,left_on='Striker_Id',right_on='Player_Id')\n",
    "foreign_player_score = batsman_score[batsman_score['Country'] != 'India']\n",
    "foreign_country_score = foreign_player_score.groupby('Country')['Batsman_Scored'].sum().reset_index()\n",
    "\n",
    "plt.pie(foreign_country_score['Batsman_Scored'],labels=foreign_country_score['Country'],autopct=\"%.2f%%\",\n",
    "       radius = 3,explode=(0.3,0,0,0,0,0,0.3,0,0.3,0))"
   ]
  },
  {
   "cell_type": "code",
   "execution_count": 70,
   "metadata": {},
   "outputs": [
    {
     "data": {
      "text/plain": [
       "<matplotlib.patches.Circle at 0x18c95d064a8>"
      ]
     },
     "execution_count": 70,
     "metadata": {},
     "output_type": "execute_result"
    },
    {
     "data": {
      "image/png": "[encoded data removed]",
      "text/plain": [
       "<Figure size 432x288 with 1 Axes>"
      ]
     },
     "metadata": {},
     "output_type": "display_data"
    }
   ],
   "source": [
    "#in doughnut cart\n",
    "\n",
    "#create a small circle inside pie chart to make doughnut\n",
    "\n",
    "plt.pie(foreign_country_score['Batsman_Scored'],labels=foreign_country_score['Country'],autopct=\"%.2f%%\",radius=2\n",
    "       ,pctdistance=0.75)\n",
    "\n",
    "centre_cirrcle = plt.Circle((0,0),1,fc='white')\n",
    "\n",
    "fig = plt.gcf()\n",
    "fig.gca().add_artist(centre_cirrcle)"
   ]
  },
  {
   "cell_type": "code",
   "execution_count": null,
   "metadata": {},
   "outputs": [],
   "source": [
    "Striker_Id\n",
    "ball[]"
   ]
  }
 ],
 "metadata": {
  "kernelspec": {
   "display_name": "Python 3",
   "language": "python",
   "name": "python3"
  },
  "language_info": {
   "codemirror_mode": {
    "name": "ipython",
    "version": 3
   },
   "file_extension": ".py",
   "mimetype": "text/x-python",
   "name": "python",
   "nbconvert_exporter": "python",
   "pygments_lexer": "ipython3",
   "version": "3.7.1"
  }
 },
 "nbformat": 4,
 "nbformat_minor": 2
}
